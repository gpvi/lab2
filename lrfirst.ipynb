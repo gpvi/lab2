{
 "cells": [
  {
   "cell_type": "code",
   "execution_count": 8,
   "metadata": {},
   "outputs": [],
   "source": [
    "path = './lr_sentence.txt'\n",
    "import pandas as pd\n",
    "import numpy as np"
   ]
  },
  {
   "cell_type": "code",
   "execution_count": 38,
   "metadata": {},
   "outputs": [],
   "source": [
    "\n",
    "sentences = {}\n",
    "with open(path,'r',encoding='utf-8') as f:\n",
    "    lines = f.readlines()\n",
    "    for line in lines:\n",
    "        temp = line.split('@')\n",
    "        # print(temp[0])\n",
    "        temp[1] = temp[1].strip('\\n')\n",
    "        temp[1] = temp[1].split()\n",
    "        # temp[1] = list(filter(lambda x: x != \"\",temp[1]))\n",
    "        # print(temp[1])\n",
    "        if temp[0] not in sentences:\n",
    "            sentences[temp[0]] = []\n",
    "            sentences[temp[0]].append(temp[1])\n",
    "        else:\n",
    "            sentences[temp[0]].append(temp[1])\n",
    "        \n",
    "no_term = set()\n",
    "for i in sentences:\n",
    "    no_term.add(i)\n",
    "\n",
    "\n",
    "# sentences 字典    "
   ]
  },
  {
   "cell_type": "code",
   "execution_count": 47,
   "metadata": {},
   "outputs": [
    {
     "name": "stdout",
     "output_type": "stream",
     "text": [
      "program: ['block']\n",
      "block: ['{', 'decls', 'stmts', '}']\n",
      "decls: ['ε']\n",
      "decl: ['type', 'id', ';']\n",
      "type: ['basic']\n",
      "stmts: ['ε']\n",
      "stmt: ['loc=bool', ';']\n",
      "stmt: ['if', '(', 'bool', ')', 'stmt']\n",
      "stmt: ['if', '(', 'bool', ')', 'stmt', 'else', 'stmt']\n",
      "stmt: ['while', '(', 'bool', ')', 'stmt']\n",
      "stmt: ['do', 'stmt', 'while', '(', 'bool', ')', ';']\n",
      "stmt: ['break', ';']\n",
      "stmt: ['block']\n",
      "Loc: ['loc', '[', 'num', ']']\n",
      "Loc: ['id']\n",
      "bool: ['join']\n",
      "join: ['equality']\n",
      "equality: ['rel']\n",
      "rel: ['expr', '<', 'expr']\n",
      "rel: ['expr', '<=', 'expr']\n",
      "rel: ['expr', '>=', 'expr']\n",
      "rel: ['expr', '>', 'expr']\n",
      "rel: ['expr']\n",
      "expr: ['term']\n",
      "term: ['unary']\n",
      "unary: ['!', 'unary']\n",
      "unary: ['-', 'unary']\n",
      "unary: ['factor']\n",
      "factor: ['(', 'bool', ')']\n",
      "factor: ['loc']\n",
      "factor: ['num']\n",
      "factor: ['real']\n",
      "factor: ['true']\n",
      "factor: ['false']\n",
      "34\n"
     ]
    }
   ],
   "source": [
    "count = 0\n",
    "first = {}\n",
    "for i in sentences.items():\n",
    "    term_sentences = i[1][:]\n",
    "    for sentence in term_sentences:\n",
    "        if sentence[0] != i[0]:\n",
    "            if sentence[0] in no_term:\n",
    "                \n",
    "\n",
    "        "
   ]
  }
 ],
 "metadata": {
  "kernelspec": {
   "display_name": "py10",
   "language": "python",
   "name": "python3"
  },
  "language_info": {
   "codemirror_mode": {
    "name": "ipython",
    "version": 3
   },
   "file_extension": ".py",
   "mimetype": "text/x-python",
   "name": "python",
   "nbconvert_exporter": "python",
   "pygments_lexer": "ipython3",
   "version": "3.10.10"
  },
  "orig_nbformat": 4
 },
 "nbformat": 4,
 "nbformat_minor": 2
}
