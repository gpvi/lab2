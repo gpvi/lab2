{
 "cells": [
  {
   "cell_type": "code",
   "execution_count": 4,
   "metadata": {},
   "outputs": [],
   "source": [
    "path = './lr_sentence.txt'\n",
    "import pandas as pd\n",
    "import numpy as np"
   ]
  },
  {
   "cell_type": "code",
   "execution_count": 6,
   "metadata": {},
   "outputs": [],
   "source": [
    "\n",
    "sentences = {}\n",
    "with open(path,'r',encoding='utf-8') as f:\n",
    "    lines = f.readlines()\n",
    "    for line in lines:\n",
    "        temp = line.split('@')\n",
    "        # print(temp[0])\n",
    "        temp[1] = temp[1].strip('\\n')\n",
    "        temp[1] = temp[1].split()\n",
    "        # temp[1] = list(filter(lambda x: x != \"\",temp[1]))\n",
    "        # print(temp[1])\n",
    "        if temp[0] not in sentences:\n",
    "            sentences[temp[0]] = []\n",
    "            sentences[temp[0]].append(temp[1])\n",
    "        else:\n",
    "            sentences[temp[0]].append(temp[1])\n",
    "        \n",
    "no_term = set()\n",
    "for i in sentences:\n",
    "    no_term.add(i)\n",
    "\n",
    "\n",
    "# sentences 字典    "
   ]
  },
  {
   "cell_type": "code",
   "execution_count": 10,
   "metadata": {},
   "outputs": [
    {
     "ename": "SyntaxError",
     "evalue": "invalid character '：' (U+FF1A) (1751389713.py, line 9)",
     "output_type": "error",
     "traceback": [
      "\u001B[1;36m  Cell \u001B[1;32mIn[10], line 9\u001B[1;36m\u001B[0m\n\u001B[1;33m    if i[0] not in first：\u001B[0m\n\u001B[1;37m                        ^\u001B[0m\n\u001B[1;31mSyntaxError\u001B[0m\u001B[1;31m:\u001B[0m invalid character '：' (U+FF1A)\n"
     ]
    }
   ],
   "source": [
    "count = 0\n",
    "first = {}\n",
    "flag = 0\n",
    "\n",
    "while flag == 0:\n",
    "    flag = 1\n",
    "    for i in sentences.items():\n",
    "        term_sentences = i[1][:]    \n",
    "        if i[0] not in first:\n",
    "            first[i[0]] = set()\n",
    "        for sentence in term_sentences:\n",
    "            k = 0\n",
    "            while sentence[k] == i[0]:\n",
    "                k+=1\n",
    "            term = sentence[k]\n",
    "            if term not in no_term:\n",
    "               if term not in first[i[0]]:\n",
    "                   first[i[0]].add(term)\n",
    "                   flag = 0\n",
    "            else:\n",
    "                if term not in first:\n",
    "                    continue\n",
    "                else:\n",
    "                    first[i[0]] = first[i[0]].union(first[term])\n",
    "\n",
    "\n",
    "\n",
    "            \n",
    "                # if sentence[0] == \"ε\":\n",
    "                #     print(i[0]+\" : \",end=\"\")\n",
    "                #     print(sentence)\n",
    "                #\n",
    "\n",
    "        "
   ]
  },
  {
   "cell_type": "code",
   "execution_count": null,
   "metadata": {},
   "outputs": [],
   "source": []
  }
 ],
 "metadata": {
  "kernelspec": {
   "display_name": "py10",
   "language": "python",
   "name": "python3"
  },
  "language_info": {
   "codemirror_mode": {
    "name": "ipython",
    "version": 3
   },
   "file_extension": ".py",
   "mimetype": "text/x-python",
   "name": "python",
   "nbconvert_exporter": "python",
   "pygments_lexer": "ipython3",
   "version": "3.10.10"
  },
  "orig_nbformat": 4
 },
 "nbformat": 4,
 "nbformat_minor": 2
}